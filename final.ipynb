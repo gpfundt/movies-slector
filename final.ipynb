{
 "cells": [
  {
   "cell_type": "code",
   "execution_count": 1,
   "metadata": {},
   "outputs": [],
   "source": [
    "import pandas as pd\n",
    "import sqlalchemy\n",
    "from sqlalchemy import *\n",
    "import re\n",
    "import numpy as np\n",
    "from sklearn.neighbors import NearestNeighbors\n",
    "from sklearn.cluster import KMeans\n",
    "from sklearn.feature_extraction.text import TfidfVectorizer"
   ]
  },
  {
   "cell_type": "code",
   "execution_count": 2,
   "metadata": {},
   "outputs": [],
   "source": [
    "full = pd.read_csv('final_movies.csv').dropna()"
   ]
  },
  {
   "cell_type": "code",
   "execution_count": 3,
   "metadata": {},
   "outputs": [],
   "source": [
    "selections = full.drop(columns=['Unnamed: 0','movieId','imdbID','Title','Year','Ratings','Released','Runtime','Plot','Poster','imdbVotes'])"
   ]
  },
  {
   "cell_type": "code",
   "execution_count": 4,
   "metadata": {},
   "outputs": [],
   "source": [
    "kmeans = KMeans(n_clusters=800, random_state = 42)\n",
    "kmeans.fit(selections)\n",
    "clusters = kmeans.predict(selections)\n",
    "full['clusters']=clusters"
   ]
  },
  {
   "cell_type": "code",
   "execution_count": 40,
   "metadata": {},
   "outputs": [],
   "source": [
    "searched = 'The Shawshank Redemption'\n",
    "value = full[full['Title']==searched].index.values[0]"
   ]
  },
  {
   "cell_type": "code",
   "execution_count": 41,
   "metadata": {},
   "outputs": [],
   "source": [
    "new_full = full[full['clusters'] == full['clusters'][value]].reset_index()\n",
    "plots_arr = new_full['Plot'].to_numpy()\n",
    "plots_l = list(plots_arr)"
   ]
  },
  {
   "cell_type": "code",
   "execution_count": 42,
   "metadata": {},
   "outputs": [],
   "source": [
    "corpus = []\n",
    "for i in range(0, len(plots_l)):\n",
    "    text = re.sub('[^a-zA-Z]', ' ', plots_l[i])\n",
    "    text = text.lower()\n",
    "    text=re.sub(\"&lt;/?.*?&gt;\",\" &lt;&gt; \",text)\n",
    "    text=re.sub(\"(\\\\d|\\\\W)+\",\" \",text)\n",
    "    corpus.append(text)"
   ]
  },
  {
   "cell_type": "code",
   "execution_count": 43,
   "metadata": {},
   "outputs": [],
   "source": [
    "vectorizer = TfidfVectorizer(max_features=100, stop_words='english')\n",
    "X = vectorizer.fit_transform(corpus)"
   ]
  },
  {
   "cell_type": "code",
   "execution_count": 44,
   "metadata": {},
   "outputs": [],
   "source": [
    "my_tags = vectorizer.get_feature_names()"
   ]
  },
  {
   "cell_type": "code",
   "execution_count": 45,
   "metadata": {},
   "outputs": [],
   "source": [
    "my_tag_matrix = pd.DataFrame(0, index=np.arange(len(plots_l)), columns=my_tags)"
   ]
  },
  {
   "cell_type": "code",
   "execution_count": 46,
   "metadata": {},
   "outputs": [],
   "source": [
    "for i in range(0,len(my_tag_matrix)):\n",
    "    for j in range(0,len(my_tags)):        \n",
    "        if my_tags[j] in new_full['Plot'].iloc[i]:\n",
    "            my_tag_matrix.iloc[i][my_tags.index(my_tags[j])] = 1"
   ]
  },
  {
   "cell_type": "code",
   "execution_count": 47,
   "metadata": {},
   "outputs": [],
   "source": [
    "my_tag_matrix['imdbID'] = new_full['imdbID']"
   ]
  },
  {
   "cell_type": "code",
   "execution_count": 48,
   "metadata": {},
   "outputs": [],
   "source": [
    "new_value = new_full[new_full['Title']==searched].index.values[0]"
   ]
  },
  {
   "cell_type": "code",
   "execution_count": 49,
   "metadata": {},
   "outputs": [],
   "source": [
    "new_selections = my_tag_matrix.drop(columns = ['imdbID'])"
   ]
  },
  {
   "cell_type": "code",
   "execution_count": 50,
   "metadata": {},
   "outputs": [],
   "source": [
    "thing = new_selections.iloc[new_value]"
   ]
  },
  {
   "cell_type": "code",
   "execution_count": 51,
   "metadata": {},
   "outputs": [],
   "source": [
    "knn = NearestNeighbors(n_neighbors=4)"
   ]
  },
  {
   "cell_type": "code",
   "execution_count": 52,
   "metadata": {},
   "outputs": [],
   "source": [
    "knn.fit(new_selections)\n",
    "arr = knn.kneighbors([thing], return_distance = False)"
   ]
  },
  {
   "cell_type": "code",
   "execution_count": 53,
   "metadata": {},
   "outputs": [
    {
     "data": {
      "text/plain": [
       "array([[ 0, 64, 56, 51]])"
      ]
     },
     "execution_count": 53,
     "metadata": {},
     "output_type": "execute_result"
    }
   ],
   "source": [
    "arr"
   ]
  },
  {
   "cell_type": "code",
   "execution_count": 54,
   "metadata": {},
   "outputs": [],
   "source": [
    "results = []\n",
    "for i in arr[0]:\n",
    "    url = f'https://imdb.com/title/{new_full[\"imdbID\"].iloc[i]}'\n",
    "    plot= new_full['Plot'].iloc[i]\n",
    "    title = new_full['Title'].iloc[i]\n",
    "    poster = new_full['Poster'].iloc[i]\n",
    "    temp_dict = {\n",
    "        'title':title,\n",
    "        'url':url,\n",
    "        'plot':plot,\n",
    "        'poster':poster\n",
    "    }\n",
    "    results.append(temp_dict)"
   ]
  },
  {
   "cell_type": "code",
   "execution_count": 55,
   "metadata": {},
   "outputs": [
    {
     "data": {
      "text/plain": [
       "[{'title': 'The Shawshank Redemption',\n",
       "  'url': 'https://imdb.com/title/tt0111161',\n",
       "  'plot': 'Two imprisoned men bond over a number of years, finding solace and eventual redemption through acts of common decency.',\n",
       "  'poster': 'https://m.media-amazon.com/images/M/MV5BMDFkYTc0MGEtZmNhMC00ZDIzLWFmNTEtODM1ZmRlYWMwMWFmXkEyXkFqcGdeQXVyMTMxODk2OTU@._V1_SX300.jpg'},\n",
       " {'title': 'People on the Alps',\n",
       "  'url': 'https://imdb.com/title/tt0034701',\n",
       "  'plot': 'Mail author for translation. Kodos hegycsucsok, fekete fenyvesek vilagaban el a havasok nehezsorsu nepe. Csutak Gergely favago nyomorusagos eletet felesege irant erzett nagy szerelme es ...',\n",
       "  'poster': 'https://m.media-amazon.com/images/M/MV5BMTQyODI2OTExMV5BMl5BanBnXkFtZTcwNzk3MDA0MQ@@._V1_SX300.jpg'},\n",
       " {'title': 'Horses of God',\n",
       "  'url': 'https://imdb.com/title/tt2369047',\n",
       "  'plot': 'A fictional account of the lives of the men responsible for the suicide bombings in Casablanca in 2003.',\n",
       "  'poster': 'https://m.media-amazon.com/images/M/MV5BNTk3NzE0MDAwOF5BMl5BanBnXkFtZTgwMjgzMTA3MTE@._V1_SX300.jpg'},\n",
       " {'title': 'City of the Blind',\n",
       "  'url': 'https://imdb.com/title/tt0099274',\n",
       "  'plot': 'Over more than thirty years, a department of the Condesa in Mexico City, is the setting in which they are carried out ten stories, mixed, form one whose only constant is the rupture. The ...',\n",
       "  'poster': 'https://m.media-amazon.com/images/M/MV5BYzAwZGVhMzMtNDA3NS00Y2I1LWJkOGItYWIyMzdkNWUxN2RlXkEyXkFqcGdeQXVyMzU0NzkwMDg@._V1_SX300.jpg'}]"
      ]
     },
     "execution_count": 55,
     "metadata": {},
     "output_type": "execute_result"
    }
   ],
   "source": [
    "results"
   ]
  },
  {
   "cell_type": "code",
   "execution_count": null,
   "metadata": {},
   "outputs": [],
   "source": []
  },
  {
   "cell_type": "code",
   "execution_count": null,
   "metadata": {},
   "outputs": [],
   "source": []
  }
 ],
 "metadata": {
  "kernelspec": {
   "display_name": "Python 3",
   "language": "python",
   "name": "python3"
  },
  "language_info": {
   "codemirror_mode": {
    "name": "ipython",
    "version": 3
   },
   "file_extension": ".py",
   "mimetype": "text/x-python",
   "name": "python",
   "nbconvert_exporter": "python",
   "pygments_lexer": "ipython3",
   "version": "3.7.3"
  }
 },
 "nbformat": 4,
 "nbformat_minor": 4
}
