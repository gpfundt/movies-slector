{
 "cells": [
  {
   "cell_type": "code",
   "execution_count": 1,
   "metadata": {},
   "outputs": [],
   "source": [
    "import pandas as pd\n",
    "import sqlalchemy\n",
    "from sqlalchemy import *\n",
    "import re\n",
    "import numpy as np\n",
    "from sklearn.neighbors import NearestNeighbors\n",
    "from sklearn.cluster import KMeans\n",
    "from sklearn.feature_extraction.text import TfidfVectorizer"
   ]
  },
  {
   "cell_type": "code",
   "execution_count": 2,
   "metadata": {},
   "outputs": [],
   "source": [
    "full = pd.read_csv('final_movies.csv').dropna()"
   ]
  },
  {
   "cell_type": "code",
   "execution_count": 3,
   "metadata": {},
   "outputs": [],
   "source": [
    "selections = full.drop(columns=['Unnamed: 0','movieId','imdbID','Title','Year','Ratings','Released','Runtime','Plot','Poster','imdbVotes'])"
   ]
  },
  {
   "cell_type": "code",
   "execution_count": null,
   "metadata": {},
   "outputs": [],
   "source": [
    "full = pd.read_csv('clustered_movies.csv')"
   ]
  },
  {
   "cell_type": "code",
   "execution_count": 118,
   "metadata": {},
   "outputs": [],
   "source": [
    "searched = 'The Hangover'\n",
    "value = full[full['Title']==searched].index.values[0]"
   ]
  },
  {
   "cell_type": "code",
   "execution_count": 119,
   "metadata": {},
   "outputs": [],
   "source": [
    "new_full = full[full['clusters'] == full['clusters'][value]].reset_index()\n",
    "plots_arr = new_full['Plot'].to_numpy()\n",
    "plots_l = list(plots_arr)"
   ]
  },
  {
   "cell_type": "code",
   "execution_count": 120,
   "metadata": {},
   "outputs": [],
   "source": [
    "corpus = []\n",
    "for i in range(0, len(plots_l)):\n",
    "    text = re.sub('[^a-zA-Z]', ' ', plots_l[i])\n",
    "    text = text.lower()\n",
    "    text=re.sub(\"&lt;/?.*?&gt;\",\" &lt;&gt; \",text)\n",
    "    text=re.sub(\"(\\\\d|\\\\W)+\",\" \",text)\n",
    "    corpus.append(text)"
   ]
  },
  {
   "cell_type": "code",
   "execution_count": 121,
   "metadata": {},
   "outputs": [],
   "source": [
    "vectorizer = TfidfVectorizer(max_features=100, stop_words='english')\n",
    "X = vectorizer.fit_transform(corpus)"
   ]
  },
  {
   "cell_type": "code",
   "execution_count": 122,
   "metadata": {},
   "outputs": [],
   "source": [
    "my_tags = vectorizer.get_feature_names()"
   ]
  },
  {
   "cell_type": "code",
   "execution_count": 123,
   "metadata": {},
   "outputs": [
    {
     "data": {
      "text/plain": [
       "['american',\n",
       " 'best',\n",
       " 'big',\n",
       " 'boss',\n",
       " 'boy',\n",
       " 'brother',\n",
       " 'business',\n",
       " 'city',\n",
       " 'college',\n",
       " 'comedian',\n",
       " 'comedy',\n",
       " 'comes',\n",
       " 'company',\n",
       " 'country',\n",
       " 'couple',\n",
       " 'daughter',\n",
       " 'dave',\n",
       " 'day',\n",
       " 'decide',\n",
       " 'decides',\n",
       " 'different',\n",
       " 'family',\n",
       " 'father',\n",
       " 'film',\n",
       " 'finds',\n",
       " 'french',\n",
       " 'friend',\n",
       " 'friends',\n",
       " 'gets',\n",
       " 'girl',\n",
       " 'girlfriend',\n",
       " 'girls',\n",
       " 'goes',\n",
       " 'good',\n",
       " 'group',\n",
       " 'help',\n",
       " 'high',\n",
       " 'home',\n",
       " 'house',\n",
       " 'husband',\n",
       " 'italian',\n",
       " 'job',\n",
       " 'just',\n",
       " 'life',\n",
       " 'like',\n",
       " 'little',\n",
       " 'live',\n",
       " 'lives',\n",
       " 'living',\n",
       " 'local',\n",
       " 'long',\n",
       " 'love',\n",
       " 'make',\n",
       " 'man',\n",
       " 'married',\n",
       " 'meet',\n",
       " 'meets',\n",
       " 'men',\n",
       " 'money',\n",
       " 'mother',\n",
       " 'movie',\n",
       " 'new',\n",
       " 'night',\n",
       " 'old',\n",
       " 'order',\n",
       " 'party',\n",
       " 'people',\n",
       " 'police',\n",
       " 'rich',\n",
       " 'run',\n",
       " 'save',\n",
       " 'school',\n",
       " 'series',\n",
       " 'set',\n",
       " 'small',\n",
       " 'son',\n",
       " 'special',\n",
       " 'stand',\n",
       " 'story',\n",
       " 'takes',\n",
       " 'team',\n",
       " 'things',\n",
       " 'time',\n",
       " 'town',\n",
       " 'tries',\n",
       " 'try',\n",
       " 'trying',\n",
       " 'village',\n",
       " 'war',\n",
       " 'way',\n",
       " 'wife',\n",
       " 'woman',\n",
       " 'women',\n",
       " 'work',\n",
       " 'working',\n",
       " 'world',\n",
       " 'writer',\n",
       " 'year',\n",
       " 'years',\n",
       " 'young']"
      ]
     },
     "execution_count": 123,
     "metadata": {},
     "output_type": "execute_result"
    }
   ],
   "source": [
    "my_tags"
   ]
  },
  {
   "cell_type": "code",
   "execution_count": 99,
   "metadata": {},
   "outputs": [],
   "source": [
    "my_tag_matrix = pd.DataFrame(0, index=np.arange(len(plots_l)), columns=my_tags)"
   ]
  },
  {
   "cell_type": "code",
   "execution_count": 100,
   "metadata": {},
   "outputs": [],
   "source": [
    "for i in range(0,len(my_tag_matrix)):\n",
    "    for j in range(0,len(my_tags)):        \n",
    "        if my_tags[j] in new_full['Plot'].iloc[i]:\n",
    "            my_tag_matrix.iloc[i][my_tags.index(my_tags[j])] = 1"
   ]
  },
  {
   "cell_type": "code",
   "execution_count": 101,
   "metadata": {},
   "outputs": [],
   "source": [
    "my_tag_matrix['imdbID'] = new_full['imdbID']"
   ]
  },
  {
   "cell_type": "code",
   "execution_count": 102,
   "metadata": {},
   "outputs": [],
   "source": [
    "new_value = new_full[new_full['Title']==searched].index.values[0]"
   ]
  },
  {
   "cell_type": "code",
   "execution_count": 103,
   "metadata": {},
   "outputs": [],
   "source": [
    "new_selections = my_tag_matrix.drop(columns = ['imdbID'])"
   ]
  },
  {
   "cell_type": "code",
   "execution_count": 104,
   "metadata": {},
   "outputs": [],
   "source": [
    "thing = new_selections.iloc[new_value]"
   ]
  },
  {
   "cell_type": "code",
   "execution_count": 105,
   "metadata": {},
   "outputs": [],
   "source": [
    "knn = NearestNeighbors(n_neighbors=4)"
   ]
  },
  {
   "cell_type": "code",
   "execution_count": 106,
   "metadata": {},
   "outputs": [],
   "source": [
    "knn.fit(new_selections)\n",
    "arr = knn.kneighbors([thing], return_distance = False)"
   ]
  },
  {
   "cell_type": "code",
   "execution_count": 107,
   "metadata": {},
   "outputs": [
    {
     "data": {
      "text/plain": [
       "array([ 72, 220, 232])"
      ]
     },
     "execution_count": 107,
     "metadata": {},
     "output_type": "execute_result"
    }
   ],
   "source": [
    "arr[0][1:4]"
   ]
  },
  {
   "cell_type": "code",
   "execution_count": 108,
   "metadata": {},
   "outputs": [
    {
     "data": {
      "text/plain": [
       "array([[761,  72, 220, 232]])"
      ]
     },
     "execution_count": 108,
     "metadata": {},
     "output_type": "execute_result"
    }
   ],
   "source": [
    "arr"
   ]
  },
  {
   "cell_type": "code",
   "execution_count": 109,
   "metadata": {},
   "outputs": [],
   "source": [
    "results = []\n",
    "for i in arr[0][1:4]:\n",
    "    url = f'https://imdb.com/title/{new_full[\"imdbID\"].iloc[i]}'\n",
    "    plot= new_full['Plot'].iloc[i]\n",
    "    title = new_full['Title'].iloc[i]\n",
    "    poster = new_full['Poster'].iloc[i]\n",
    "    temp_dict = {\n",
    "        'title':title,\n",
    "        'url':url,\n",
    "        'plot':plot,\n",
    "        'poster':poster\n",
    "    }\n",
    "    results.append(temp_dict)"
   ]
  },
  {
   "cell_type": "code",
   "execution_count": 110,
   "metadata": {},
   "outputs": [
    {
     "data": {
      "text/plain": [
       "[{'title': 'Pretty in Pink',\n",
       "  'url': 'https://imdb.com/title/tt0091790',\n",
       "  'plot': 'A poor girl must choose between the affections of dating her childhood sweetheart or a rich but sensitive playboy.',\n",
       "  'poster': 'https://m.media-amazon.com/images/M/MV5BOGE3ZmVjMzMtMDcxNi00YjM5LTg3NjMtZWMxYjlhNTk2MmZjXkEyXkFqcGdeQXVyMTQxNzMzNDI@._V1_SX300.jpg'},\n",
       " {'title': 'The Man Without a Past',\n",
       "  'url': 'https://imdb.com/title/tt0311519',\n",
       "  'plot': 'M arrives in Helsinki only to be viciously attacked by thugs and pronounced dead by medics. He revives but with no memory of his past or his identity. He rebuilds his life from scratch, but the past inevitably catches up with him.',\n",
       "  'poster': 'https://m.media-amazon.com/images/M/MV5BMTAwNTA0NzEtY2U4MS00MDFlLWJjYWEtZTdlMzRhZTJjMWJlXkEyXkFqcGdeQXVyMDI2NDg0NQ@@._V1_SX300.jpg'},\n",
       " {'title': 'Under the Tuscan Sun',\n",
       "  'url': 'https://imdb.com/title/tt0328589',\n",
       "  'plot': 'A writer impulsively buys a villa in Tuscany in order to change her life.',\n",
       "  'poster': 'https://m.media-amazon.com/images/M/MV5BOGY5ZjQ4M2ItMjQ0NC00NjY4LWIwYmEtMTIxNzFmNjA4YmJlXkEyXkFqcGdeQXVyNDk3NzU2MTQ@._V1_SX300.jpg'}]"
      ]
     },
     "execution_count": 110,
     "metadata": {},
     "output_type": "execute_result"
    }
   ],
   "source": [
    "results"
   ]
  },
  {
   "cell_type": "code",
   "execution_count": null,
   "metadata": {},
   "outputs": [],
   "source": []
  },
  {
   "cell_type": "code",
   "execution_count": null,
   "metadata": {},
   "outputs": [],
   "source": []
  }
 ],
 "metadata": {
  "kernelspec": {
   "display_name": "Python 3",
   "language": "python",
   "name": "python3"
  },
  "language_info": {
   "codemirror_mode": {
    "name": "ipython",
    "version": 3
   },
   "file_extension": ".py",
   "mimetype": "text/x-python",
   "name": "python",
   "nbconvert_exporter": "python",
   "pygments_lexer": "ipython3",
   "version": "3.7.3"
  }
 },
 "nbformat": 4,
 "nbformat_minor": 4
}
