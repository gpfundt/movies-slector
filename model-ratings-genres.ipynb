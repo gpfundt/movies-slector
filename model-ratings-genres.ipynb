{
 "cells": [
  {
   "cell_type": "code",
   "execution_count": 1,
   "metadata": {},
   "outputs": [],
   "source": [
    "import pandas as pd\n",
    "import sqlalchemy\n",
    "from sqlalchemy import *\n",
    "from sklearn.neighbors import NearestNeighbors"
   ]
  },
  {
   "cell_type": "code",
   "execution_count": 32,
   "metadata": {},
   "outputs": [
    {
     "data": {
      "text/plain": [
       "['movies_genres']"
      ]
     },
     "execution_count": 32,
     "metadata": {},
     "output_type": "execute_result"
    }
   ],
   "source": [
    "engine = create_engine(\"sqlite:///data/movies-db.sqlite\")\n",
    "conn = engine.connect()\n",
    "inspector = inspect(engine)\n",
    "tables = inspector.get_table_names()\n",
    "tables"
   ]
  },
  {
   "cell_type": "code",
   "execution_count": 33,
   "metadata": {},
   "outputs": [],
   "source": [
    "full = pd.read_sql('select * from movies_genres', con=conn)"
   ]
  },
  {
   "cell_type": "code",
   "execution_count": 34,
   "metadata": {},
   "outputs": [
    {
     "data": {
      "text/html": [
       "<div>\n",
       "<style scoped>\n",
       "    .dataframe tbody tr th:only-of-type {\n",
       "        vertical-align: middle;\n",
       "    }\n",
       "\n",
       "    .dataframe tbody tr th {\n",
       "        vertical-align: top;\n",
       "    }\n",
       "\n",
       "    .dataframe thead th {\n",
       "        text-align: right;\n",
       "    }\n",
       "</style>\n",
       "<table border=\"1\" class=\"dataframe\">\n",
       "  <thead>\n",
       "    <tr style=\"text-align: right;\">\n",
       "      <th></th>\n",
       "      <th>index</th>\n",
       "      <th>movieId</th>\n",
       "      <th>imdbID</th>\n",
       "      <th>title</th>\n",
       "      <th>genres</th>\n",
       "      <th>rating</th>\n",
       "      <th>Action</th>\n",
       "      <th>Adult</th>\n",
       "      <th>Adventure</th>\n",
       "      <th>Animation</th>\n",
       "      <th>...</th>\n",
       "      <th>News</th>\n",
       "      <th>Reality-TV</th>\n",
       "      <th>Romance</th>\n",
       "      <th>Sci-Fi</th>\n",
       "      <th>Short</th>\n",
       "      <th>Sport</th>\n",
       "      <th>Talk-Show</th>\n",
       "      <th>Thriller</th>\n",
       "      <th>War</th>\n",
       "      <th>Western</th>\n",
       "    </tr>\n",
       "  </thead>\n",
       "  <tbody>\n",
       "    <tr>\n",
       "      <td>0</td>\n",
       "      <td>0</td>\n",
       "      <td>1</td>\n",
       "      <td>tt0114709</td>\n",
       "      <td>Toy Story (1995)</td>\n",
       "      <td>Adventure|Animation|Children|Comedy|Fantasy</td>\n",
       "      <td>3.886649</td>\n",
       "      <td>0</td>\n",
       "      <td>0</td>\n",
       "      <td>1</td>\n",
       "      <td>1</td>\n",
       "      <td>...</td>\n",
       "      <td>0</td>\n",
       "      <td>0</td>\n",
       "      <td>0</td>\n",
       "      <td>0</td>\n",
       "      <td>0</td>\n",
       "      <td>0</td>\n",
       "      <td>0</td>\n",
       "      <td>0</td>\n",
       "      <td>0</td>\n",
       "      <td>0</td>\n",
       "    </tr>\n",
       "    <tr>\n",
       "      <td>1</td>\n",
       "      <td>1</td>\n",
       "      <td>2</td>\n",
       "      <td>tt0113497</td>\n",
       "      <td>Jumanji (1995)</td>\n",
       "      <td>Adventure|Children|Fantasy</td>\n",
       "      <td>3.246583</td>\n",
       "      <td>0</td>\n",
       "      <td>0</td>\n",
       "      <td>1</td>\n",
       "      <td>0</td>\n",
       "      <td>...</td>\n",
       "      <td>0</td>\n",
       "      <td>0</td>\n",
       "      <td>0</td>\n",
       "      <td>0</td>\n",
       "      <td>0</td>\n",
       "      <td>0</td>\n",
       "      <td>0</td>\n",
       "      <td>0</td>\n",
       "      <td>0</td>\n",
       "      <td>0</td>\n",
       "    </tr>\n",
       "    <tr>\n",
       "      <td>2</td>\n",
       "      <td>2</td>\n",
       "      <td>3</td>\n",
       "      <td>tt0113228</td>\n",
       "      <td>Grumpier Old Men (1995)</td>\n",
       "      <td>Comedy|Romance</td>\n",
       "      <td>3.173981</td>\n",
       "      <td>0</td>\n",
       "      <td>0</td>\n",
       "      <td>0</td>\n",
       "      <td>0</td>\n",
       "      <td>...</td>\n",
       "      <td>0</td>\n",
       "      <td>0</td>\n",
       "      <td>1</td>\n",
       "      <td>0</td>\n",
       "      <td>0</td>\n",
       "      <td>0</td>\n",
       "      <td>0</td>\n",
       "      <td>0</td>\n",
       "      <td>0</td>\n",
       "      <td>0</td>\n",
       "    </tr>\n",
       "    <tr>\n",
       "      <td>3</td>\n",
       "      <td>3</td>\n",
       "      <td>4</td>\n",
       "      <td>tt0114885</td>\n",
       "      <td>Waiting to Exhale (1995)</td>\n",
       "      <td>Comedy|Drama|Romance</td>\n",
       "      <td>2.874540</td>\n",
       "      <td>0</td>\n",
       "      <td>0</td>\n",
       "      <td>0</td>\n",
       "      <td>0</td>\n",
       "      <td>...</td>\n",
       "      <td>0</td>\n",
       "      <td>0</td>\n",
       "      <td>1</td>\n",
       "      <td>0</td>\n",
       "      <td>0</td>\n",
       "      <td>0</td>\n",
       "      <td>0</td>\n",
       "      <td>0</td>\n",
       "      <td>0</td>\n",
       "      <td>0</td>\n",
       "    </tr>\n",
       "    <tr>\n",
       "      <td>4</td>\n",
       "      <td>4</td>\n",
       "      <td>5</td>\n",
       "      <td>tt0113041</td>\n",
       "      <td>Father of the Bride Part II (1995)</td>\n",
       "      <td>Comedy</td>\n",
       "      <td>3.077291</td>\n",
       "      <td>0</td>\n",
       "      <td>0</td>\n",
       "      <td>0</td>\n",
       "      <td>0</td>\n",
       "      <td>...</td>\n",
       "      <td>0</td>\n",
       "      <td>0</td>\n",
       "      <td>1</td>\n",
       "      <td>0</td>\n",
       "      <td>0</td>\n",
       "      <td>0</td>\n",
       "      <td>0</td>\n",
       "      <td>0</td>\n",
       "      <td>0</td>\n",
       "      <td>0</td>\n",
       "    </tr>\n",
       "  </tbody>\n",
       "</table>\n",
       "<p>5 rows × 34 columns</p>\n",
       "</div>"
      ],
      "text/plain": [
       "   index  movieId     imdbID                               title  \\\n",
       "0      0        1  tt0114709                    Toy Story (1995)   \n",
       "1      1        2  tt0113497                      Jumanji (1995)   \n",
       "2      2        3  tt0113228             Grumpier Old Men (1995)   \n",
       "3      3        4  tt0114885            Waiting to Exhale (1995)   \n",
       "4      4        5  tt0113041  Father of the Bride Part II (1995)   \n",
       "\n",
       "                                        genres    rating  Action  Adult  \\\n",
       "0  Adventure|Animation|Children|Comedy|Fantasy  3.886649       0      0   \n",
       "1                   Adventure|Children|Fantasy  3.246583       0      0   \n",
       "2                               Comedy|Romance  3.173981       0      0   \n",
       "3                         Comedy|Drama|Romance  2.874540       0      0   \n",
       "4                                       Comedy  3.077291       0      0   \n",
       "\n",
       "   Adventure  Animation  ...  News  Reality-TV  Romance  Sci-Fi  Short  Sport  \\\n",
       "0          1          1  ...     0           0        0       0      0      0   \n",
       "1          1          0  ...     0           0        0       0      0      0   \n",
       "2          0          0  ...     0           0        1       0      0      0   \n",
       "3          0          0  ...     0           0        1       0      0      0   \n",
       "4          0          0  ...     0           0        1       0      0      0   \n",
       "\n",
       "   Talk-Show  Thriller  War  Western  \n",
       "0          0         0    0        0  \n",
       "1          0         0    0        0  \n",
       "2          0         0    0        0  \n",
       "3          0         0    0        0  \n",
       "4          0         0    0        0  \n",
       "\n",
       "[5 rows x 34 columns]"
      ]
     },
     "execution_count": 34,
     "metadata": {},
     "output_type": "execute_result"
    }
   ],
   "source": [
    "full.head()"
   ]
  },
  {
   "cell_type": "code",
   "execution_count": 35,
   "metadata": {},
   "outputs": [],
   "source": [
    "selections = full.drop(columns=['index','movieId','imdbID','title','genres'])"
   ]
  },
  {
   "cell_type": "code",
   "execution_count": null,
   "metadata": {},
   "outputs": [],
   "source": [
    "\n",
    "thing = selections.iloc[]"
   ]
  },
  {
   "cell_type": "code",
   "execution_count": 36,
   "metadata": {},
   "outputs": [],
   "source": [
    "knn = NearestNeighbors(n_neighbors=6)"
   ]
  },
  {
   "cell_type": "code",
   "execution_count": 47,
   "metadata": {},
   "outputs": [],
   "source": [
    "knn.fit(selections)\n",
    "arr = knn.kneighbors([thing, return_distance = False)"
   ]
  },
  {
   "cell_type": "code",
   "execution_count": 48,
   "metadata": {},
   "outputs": [
    {
     "data": {
      "text/plain": [
       "array([[    0, 15484,  4787, 13358,  3026,  4209]])"
      ]
     },
     "execution_count": 48,
     "metadata": {},
     "output_type": "execute_result"
    }
   ],
   "source": [
    "arr"
   ]
  },
  {
   "cell_type": "code",
   "execution_count": 115,
   "metadata": {},
   "outputs": [
    {
     "data": {
      "text/plain": [
       "Index(['Title', 'Year', 'Rated', 'Released', 'Runtime', 'Genre', 'Director',\n",
       "       'Writer', 'Actors', 'Plot', 'Language', 'Country', 'Awards', 'Poster',\n",
       "       'Ratings', 'Metascore', 'imdbRating', 'imdbVotes', 'imdbID', 'Type',\n",
       "       'DVD', 'BoxOffice', 'Production', 'Website', 'Season', 'Episode',\n",
       "       'totalSeasons', 'seriesID'],\n",
       "      dtype='object')"
      ]
     },
     "execution_count": 115,
     "metadata": {},
     "output_type": "execute_result"
    }
   ],
   "source": [
    "other_info = pd.read_csv('clean_data/imdb_details_clean.csv')\n",
    "other_info.columns"
   ]
  },
  {
   "cell_type": "code",
   "execution_count": 119,
   "metadata": {},
   "outputs": [],
   "source": [
    "results = []\n",
    "for i in arr[0]:\n",
    "    url = f'https://imdb.com/title/{other_info[\"imdbID\"][i]}'\n",
    "    plot= other_info['Plot'][i]\n",
    "    title = other_info['Title'][i]\n",
    "    poster = other_info['Poster'][i]\n",
    "    temp_dict = {\n",
    "        'title':title,\n",
    "        'url':url,\n",
    "        'plot':plot,\n",
    "        'poster':poster\n",
    "    }\n",
    "    results.append(temp_dict)"
   ]
  },
  {
   "cell_type": "code",
   "execution_count": 120,
   "metadata": {},
   "outputs": [
    {
     "data": {
      "text/plain": [
       "[{'title': 'Toy Story',\n",
       "  'url': 'https://imdb.com/title/tt0114709',\n",
       "  'plot': \"A cowboy doll is profoundly threatened and jealous when a new spaceman figure supplants him as top toy in a boy's room.\",\n",
       "  'poster': 'https://m.media-amazon.com/images/M/MV5BMDU2ZWJlMjktMTRhMy00ZTA5LWEzNDgtYmNmZTEwZTViZWJkXkEyXkFqcGdeQXVyNDQ2OTk4MzI@._V1_SX300.jpg'},\n",
       " {'title': 'No Greater Love',\n",
       "  'url': 'https://imdb.com/title/tt1225703',\n",
       "  'plot': 'Jeff and Heather Baker were life long sweethearts and happily married... for a time. But at her greatest moment of weakness, Heather abandons Jeff, forcing Jeff to raise their young son ...',\n",
       "  'poster': 'https://m.media-amazon.com/images/M/MV5BMTU3MjI4ODA0Ml5BMl5BanBnXkFtZTcwODAwNTcxMw@@._V1_SX300.jpg'},\n",
       " {'title': 'Donnie Darko',\n",
       "  'url': 'https://imdb.com/title/tt0246578',\n",
       "  'plot': 'A troubled teenager is plagued by visions of a man in a large rabbit suit who manipulates him to commit a series of crimes, after he narrowly escapes a bizarre accident.',\n",
       "  'poster': 'https://m.media-amazon.com/images/M/MV5BZjZlZDlkYTktMmU1My00ZDBiLWFlNjEtYTBhNjVhOTM4ZjJjXkEyXkFqcGdeQXVyMTMxODk2OTU@._V1_SX300.jpg'},\n",
       " {'title': \"The Grocer's Son\",\n",
       "  'url': 'https://imdb.com/title/tt0864770',\n",
       "  'plot': 'Antoine Sforza, a thirty-year-old young man, left his village ten years before in order to start a new life in the big city, but now that his father, a traveling grocer, is in hospital ...',\n",
       "  'poster': 'https://m.media-amazon.com/images/M/MV5BNWE2ZDg2MGQtZDU5Ni00ZTI4LWI1ZjItMWNlNTE0MDZmMjhlXkEyXkFqcGdeQXVyMjQzMzQzODY@._V1_SX300.jpg'},\n",
       " {'title': 'The Fisher King',\n",
       "  'url': 'https://imdb.com/title/tt0101889',\n",
       "  'plot': 'A former radio DJ, suicidally despondent because of a terrible mistake he made, finds redemption in helping a deranged homeless man who was an unwitting victim of that mistake.',\n",
       "  'poster': 'https://m.media-amazon.com/images/M/MV5BOGZmMDM1NTQtMzc0Yi00ODRiLWJjYjQtMGRmYWRlOTY2ODMxXkEyXkFqcGdeQXVyMTQxNzMzNDI@._V1_SX300.jpg'},\n",
       " {'title': \"A Knight's Tale\",\n",
       "  'url': 'https://imdb.com/title/tt0183790',\n",
       "  'plot': 'After his master dies, a peasant squire, fueled by his desire for food and glory, creates a new identity for himself as a knight.',\n",
       "  'poster': 'https://m.media-amazon.com/images/M/MV5BMTE5OTE4OTE2Nl5BMl5BanBnXkFtZTYwMDkzMTQ3._V1_SX300.jpg'}]"
      ]
     },
     "execution_count": 120,
     "metadata": {},
     "output_type": "execute_result"
    }
   ],
   "source": [
    "results"
   ]
  },
  {
   "cell_type": "code",
   "execution_count": null,
   "metadata": {},
   "outputs": [],
   "source": []
  },
  {
   "cell_type": "code",
   "execution_count": null,
   "metadata": {},
   "outputs": [],
   "source": []
  }
 ],
 "metadata": {
  "kernelspec": {
   "display_name": "Python 3",
   "language": "python",
   "name": "python3"
  },
  "language_info": {
   "codemirror_mode": {
    "name": "ipython",
    "version": 3
   },
   "file_extension": ".py",
   "mimetype": "text/x-python",
   "name": "python",
   "nbconvert_exporter": "python",
   "pygments_lexer": "ipython3",
   "version": "3.7.3"
  }
 },
 "nbformat": 4,
 "nbformat_minor": 4
}
