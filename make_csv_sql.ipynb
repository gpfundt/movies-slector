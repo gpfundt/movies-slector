{
 "cells": [
  {
   "cell_type": "code",
   "execution_count": 16,
   "metadata": {},
   "outputs": [],
   "source": [
    "import pandas as pd\n",
    "import sqlalchemy\n",
    "from sqlalchemy import *\n",
    "import re\n",
    "from sklearn.cluster import KMeans"
   ]
  },
  {
   "cell_type": "code",
   "execution_count": 2,
   "metadata": {},
   "outputs": [],
   "source": [
    "# df = pd.read_csv(\"data/genome-scores.csv\")\n",
    "# df2 = pd.read_csv(\"data/genome-tags.csv\")\n",
    "# df3 = pd.read_csv(\"data/links.csv\")\n",
    "# df4 = pd.read_csv(\"data/movies.csv\")\n",
    "df5 = pd.read_csv(\"ratings.csv\")\n",
    "genreMatrix = pd.read_csv('clean_data/genreMatrix.csv')\n",
    "links = pd.read_csv('links.csv')\n",
    "other_info = pd.read_csv('clean_data/imdb_details_clean.csv')"
   ]
  },
  {
   "cell_type": "code",
   "execution_count": 3,
   "metadata": {},
   "outputs": [],
   "source": [
    "ratings = df5.groupby('movieId').mean().drop(columns = ['userId', 'timestamp'])"
   ]
  },
  {
   "cell_type": "code",
   "execution_count": 4,
   "metadata": {},
   "outputs": [],
   "source": [
    "ids = links.drop(columns=['imdbId', 'tmdbId']).rename(columns={'imdbID_formatted':'imdbID'})"
   ]
  },
  {
   "cell_type": "code",
   "execution_count": 5,
   "metadata": {},
   "outputs": [],
   "source": [
    "movies_other = other_info.drop(columns=['Rated','Genre','Director','Writer','Actors','Type','DVD','BoxOffice','Production','Website','Season','Episode','totalSeasons','seriesID','Awards','Country','Language','Metascore','imdbRating'])"
   ]
  },
  {
   "cell_type": "code",
   "execution_count": 6,
   "metadata": {},
   "outputs": [],
   "source": [
    "movies = pd.merge(ids, movies_other,how='inner',on='imdbID')"
   ]
  },
  {
   "cell_type": "code",
   "execution_count": 7,
   "metadata": {},
   "outputs": [],
   "source": [
    "movies_ratings = pd.merge(movies, ratings, how='inner', on='movieId')"
   ]
  },
  {
   "cell_type": "code",
   "execution_count": 8,
   "metadata": {},
   "outputs": [],
   "source": [
    "movies_genres_ratings = pd.merge(movies_ratings, genreMatrix, how='inner', on='imdbID')"
   ]
  },
  {
   "cell_type": "code",
   "execution_count": 9,
   "metadata": {},
   "outputs": [
    {
     "data": {
      "text/plain": [
       "Index(['Title', 'Year', 'Rated', 'Released', 'Runtime', 'Genre', 'Director',\n",
       "       'Writer', 'Actors', 'Plot', 'Language', 'Country', 'Awards', 'Poster',\n",
       "       'Ratings', 'Metascore', 'imdbRating', 'imdbVotes', 'imdbID', 'Type',\n",
       "       'DVD', 'BoxOffice', 'Production', 'Website', 'Season', 'Episode',\n",
       "       'totalSeasons', 'seriesID'],\n",
       "      dtype='object')"
      ]
     },
     "execution_count": 9,
     "metadata": {},
     "output_type": "execute_result"
    }
   ],
   "source": [
    "other_info.columns"
   ]
  },
  {
   "cell_type": "code",
   "execution_count": 10,
   "metadata": {},
   "outputs": [],
   "source": [
    "votes = []\n",
    "temp = []\n",
    "for i in range(0, len(other_info)):\n",
    "    text = float(str(other_info['imdbVotes'][i]).replace(',',''))/2177949\n",
    "    movieid = other_info['imdbID'][i]\n",
    "#     year = float(str(other_info['Year'][i]).replace('Äì',''))\n",
    "    mscore = other_info['Metascore'][i]\n",
    "    temp = [text,movieid]\n",
    "    votes.append(temp)"
   ]
  },
  {
   "cell_type": "code",
   "execution_count": 11,
   "metadata": {},
   "outputs": [],
   "source": [
    "votes_score = pd.DataFrame(votes, columns =['votes','imdbID'])"
   ]
  },
  {
   "cell_type": "code",
   "execution_count": 12,
   "metadata": {},
   "outputs": [],
   "source": [
    "more_info = pd.merge(movies_genres_ratings,votes_score,how='inner',on='imdbID')"
   ]
  },
  {
   "cell_type": "code",
   "execution_count": 13,
   "metadata": {},
   "outputs": [],
   "source": [
    "more_info.to_csv('final_movies.csv')"
   ]
  },
  {
   "cell_type": "code",
   "execution_count": 14,
   "metadata": {},
   "outputs": [
    {
     "data": {
      "text/plain": [
       "Index(['movieId', 'imdbID', 'Title', 'Year', 'Released', 'Runtime', 'Plot',\n",
       "       'Poster', 'Ratings', 'imdbVotes', 'rating', 'Action', 'Adult',\n",
       "       'Adventure', 'Animation', 'Biography', 'Comedy', 'Crime', 'Documentary',\n",
       "       'Drama', 'Family', 'Fantasy', 'Film-Noir', 'Game-Show', 'History',\n",
       "       'Horror', 'Music', 'Musical', 'Mystery', 'News', 'Reality-TV',\n",
       "       'Romance', 'Sci-Fi', 'Short', 'Sport', 'Talk-Show', 'Thriller', 'War',\n",
       "       'Western', 'votes'],\n",
       "      dtype='object')"
      ]
     },
     "execution_count": 14,
     "metadata": {},
     "output_type": "execute_result"
    }
   ],
   "source": [
    "more_info.columns"
   ]
  },
  {
   "cell_type": "code",
   "execution_count": 17,
   "metadata": {},
   "outputs": [],
   "source": [
    "full = pd.read_csv('final_movies.csv').dropna()\n",
    "selections = full.drop(columns=['Unnamed: 0','movieId','imdbID','Title','Year','Ratings','Released','Runtime','Plot','Poster','imdbVotes'])\n",
    "\n",
    "kmeans = KMeans(n_clusters=800, random_state = 42)\n",
    "kmeans.fit(selections)\n",
    "clusters = kmeans.predict(selections)\n",
    "full['clusters']=clusters\n",
    "\n",
    "full.to_csv('clustered_movies.csv')"
   ]
  },
  {
   "cell_type": "code",
   "execution_count": null,
   "metadata": {},
   "outputs": [],
   "source": []
  }
 ],
 "metadata": {
  "kernelspec": {
   "display_name": "Python 3",
   "language": "python",
   "name": "python3"
  },
  "language_info": {
   "codemirror_mode": {
    "name": "ipython",
    "version": 3
   },
   "file_extension": ".py",
   "mimetype": "text/x-python",
   "name": "python",
   "nbconvert_exporter": "python",
   "pygments_lexer": "ipython3",
   "version": "3.7.3"
  }
 },
 "nbformat": 4,
 "nbformat_minor": 4
}
